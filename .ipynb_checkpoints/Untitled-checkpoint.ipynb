{
 "cells": [
  {
   "cell_type": "code",
   "execution_count": 5,
   "metadata": {},
   "outputs": [
    {
     "name": "stdout",
     "output_type": "stream",
     "text": [
      "-------------------------------------------------------------------\n",
      "THCudaCheck FAIL file=/opt/conda/conda-bld/pytorch_1535491974311/work/aten/src/THC/THCGeneral.cpp line=663 error=11 : invalid argument\n",
      "1\n",
      "2\n",
      "^C\n",
      "Traceback (most recent call last):\n",
      "  File \"train.py\", line 144, in <module>\n",
      "    train(model, train_dataloader, criterion, optimizer, epoch)\n",
      "  File \"train.py\", line 61, in train\n",
      "    outputs=model(inputs)\n",
      "  File \"/root/anaconda3/lib/python3.6/site-packages/torch/nn/modules/module.py\", line 477, in __call__\n",
      "    result = self.forward(*input, **kwargs)\n",
      "  File \"/home/Job/PointSegPytorch/pointSegNet1.py\", line 221, in forward\n",
      "    time.sleep(4)\n",
      "KeyboardInterrupt\n"
     ]
    }
   ],
   "source": [
    "!python train.py"
   ]
  },
  {
   "cell_type": "code",
   "execution_count": 4,
   "metadata": {},
   "outputs": [],
   "source": [
    "import torch \n",
    "import torch.nn as nn\n",
    "import torch.nn.functional as F\n",
    "from math import *\n",
    "import numpy as np"
   ]
  },
  {
   "cell_type": "code",
   "execution_count": 13,
   "metadata": {},
   "outputs": [],
   "source": [
    "class Net(nn.Module):\n",
    "    def __init__(self):\n",
    "        super(Net, self).__init__()\n",
    "        self.conv=nn.Conv2d(96, 16, 1, (1,1))\n",
    "        \n",
    "    def _count_pad(self, i, stride, dilation, size):\n",
    "        x=1+(i-1)*stride-i+dilation*(size-1)\n",
    "        return x/2        \n",
    "    def _count_padd(self, i, stride, dilation, size):\n",
    "        return (size-1)/2\n",
    "    def forward(self, x):\n",
    "        p0=self._count_pad(x.size()[2], self.conv.stride[0], self.conv.dilation[0], self.conv.kernel_size[0])\n",
    "        p1=self._count_pad(x.size()[3], self.conv.stride[1], self.conv.dilation[1], self.conv.kernel_size[1])\n",
    "        #x=F.pad(x,(r,r,b,b))\n",
    "        p0=ceil(p0)\n",
    "        p1=ceil(p1)\n",
    "        print(p0,p1)\n",
    "        x=F.pad(x, (p1,p1,p0,p0))\n",
    "        return self.conv(x)\n",
    "    "
   ]
  },
  {
   "cell_type": "code",
   "execution_count": 18,
   "metadata": {},
   "outputs": [],
   "source": [
    "class Deconv(nn.Module):\n",
    "    def __init__(self, inputs, outputs,  size, stride, padding, xavier=False):\n",
    "        super(Deconv, self).__init__()\n",
    "        self.deconv=nn.ConvTranspose2d(inputs, outputs, kernel_size=size, \n",
    "                                       stride=stride, padding=padding)\n",
    "        if xavier:\n",
    "            nn.init.xavier_uniform_(self.deconv.weight)\n",
    "            nn.init.constant_(self.deconv.bias, 0.0)\n",
    "        # TODO add bilinear if need\n",
    "        else:\n",
    "            nn.init.normal_(self.deconv.weight)\n",
    "            nn.init.constant_(self.deconv.bias, 0.0)\n",
    "    def forward(self, x):\n",
    "        return F.relu(self.deconv(x))"
   ]
  },
  {
   "cell_type": "code",
   "execution_count": 14,
   "metadata": {},
   "outputs": [],
   "source": [
    "class MaxPool(nn.Module):\n",
    "    def __init__(self, kernel_size, stride, padding=0):\n",
    "        super(MaxPool, self).__init__()\n",
    "        self.pool=nn.MaxPool2d(kernel_size=kernel_size,stride=(1,stride), padding=padding)\n",
    "    def forward(self, x):\n",
    "        print(type(self.pool.kernel_size))\n",
    "        p0=(self.pool.kernel_size-1)/2\n",
    "        r=ceil(p0/2)       \n",
    "        p1=(self.pool.kernel_size-1)/2\n",
    "        b=ceil(p1/2)\n",
    "        x=F.pad(x,(r,r,b,b))\n",
    "        return self.pool(x)"
   ]
  },
  {
   "cell_type": "code",
   "execution_count": 15,
   "metadata": {},
   "outputs": [
    {
     "name": "stdout",
     "output_type": "stream",
     "text": [
      "0 0\n",
      "torch.Size([8, 16, 64, 512])\n"
     ]
    }
   ],
   "source": [
    "t=torch.randn([8, 96, 64, 512])\n",
    "n=Net()\n",
    "print(n(t).size())\n",
    "m=MaxPool(3,2)\n",
    "#print(m(t).size())"
   ]
  },
  {
   "cell_type": "code",
   "execution_count": 28,
   "metadata": {},
   "outputs": [
    {
     "name": "stdout",
     "output_type": "stream",
     "text": [
      "0 0\n",
      "torch.Size([8, 16, 64, 512])\n"
     ]
    }
   ],
   "source": [
    "d=Deconv(16,16,(1,4),(1,2),(0, 257))\n",
    "print(d(n(t)).size())"
   ]
  },
  {
   "cell_type": "code",
   "execution_count": 140,
   "metadata": {},
   "outputs": [],
   "source": [
    "t1=torch.from_numpy(np.array([[[ 4, 6]], [[12, 14]]]))\n",
    "t=torch.from_numpy(np.array([[ 4, 6], [12, 14]]))"
   ]
  },
  {
   "cell_type": "code",
   "execution_count": 141,
   "metadata": {},
   "outputs": [
    {
     "name": "stdout",
     "output_type": "stream",
     "text": [
      "torch.Size([2, 2])\n",
      "torch.Size([2, 1, 2])\n"
     ]
    }
   ],
   "source": [
    "print(t.size())\n",
    "print(t1.size())"
   ]
  },
  {
   "cell_type": "code",
   "execution_count": 148,
   "metadata": {},
   "outputs": [
    {
     "name": "stdout",
     "output_type": "stream",
     "text": [
      "(2, 2, 2)\n",
      "(8, 64, 128, 512)\n",
      "(8, 512)\n",
      "(8, 1, 1, 512)\n"
     ]
    }
   ],
   "source": [
    "import tensorflow as tf\n",
    "a = [ [[1,2], [3,4]], [[5,6], [7,8]] ]\n",
    "print(np.array(a).shape)\n",
    "b=np.ndarray([8,64,128,512])\n",
    "print(b.shape)\n",
    "a=tf.reduce_sum(b, axis=[1,2])\n",
    "print(a.shape)\n",
    "c=tf.reduce_mean(b, axis=[1,2], keepdims=True)\n",
    "print(c.shape)\n"
   ]
  },
  {
   "cell_type": "code",
   "execution_count": 151,
   "metadata": {},
   "outputs": [
    {
     "name": "stdout",
     "output_type": "stream",
     "text": [
      "(8, 1, 1, 512)\n"
     ]
    }
   ],
   "source": [
    "d=b.mean((1,2), keepdims=True)\n",
    "print(d.shape)"
   ]
  },
  {
   "cell_type": "code",
   "execution_count": 218,
   "metadata": {},
   "outputs": [
    {
     "name": "stdout",
     "output_type": "stream",
     "text": [
      "torch.Size([1, 1, 4, 4])\n",
      "tensor([[[[ 0.0000,  0.0000,  0.0000,  0.0000],\n",
      "          [ 2.1929,  0.2115, -0.5683, -2.3594],\n",
      "          [ 1.5266,  1.0974,  0.8482,  1.1617],\n",
      "          [-1.5802, -0.3851,  0.3044, -0.9832],\n",
      "          [-0.7458,  0.9771, -0.0631, -0.6748],\n",
      "          [ 0.0000,  0.0000,  0.0000,  0.0000]]]])\n",
      "torch.Size([1, 1, 6, 4])\n",
      "torch.Size([1, 1, 6, 4])\n"
     ]
    }
   ],
   "source": [
    "t2=torch.randn([1,1,4,4])\n",
    "print(t2.size())\n",
    "m1 = torch.nn.Conv2d(1, 1, 1, padding=0)\n",
    "t2=F.pad(t2,(0,0,1,1))\n",
    "print(t2)\n",
    "print(t2.size())\n",
    "print(m1(t2).size())"
   ]
  },
  {
   "cell_type": "code",
   "execution_count": 11,
   "metadata": {},
   "outputs": [
    {
     "data": {
      "text/plain": [
       "torch.Size([8, 320, 64, 128])"
      ]
     },
     "execution_count": 11,
     "metadata": {},
     "output_type": "execute_result"
    }
   ],
   "source": [
    "t=torch.randn([8, 256, 64, 128])\n",
    "t1=torch.randn([8, 64, 64, 128])\n",
    "t2=torch.cat([t, t1], 1)\n",
    "t2.size()"
   ]
  },
  {
   "cell_type": "code",
   "execution_count": 9,
   "metadata": {},
   "outputs": [
    {
     "name": "stdout",
     "output_type": "stream",
     "text": [
      "nvcc: NVIDIA (R) Cuda compiler driver\r\n",
      "Copyright (c) 2005-2018 NVIDIA Corporation\r\n",
      "Built on Sat_Aug_25_21:08:01_CDT_2018\r\n",
      "Cuda compilation tools, release 10.0, V10.0.130\r\n"
     ]
    }
   ],
   "source": [
    "!nvcc -V"
   ]
  },
  {
   "cell_type": "code",
   "execution_count": null,
   "metadata": {},
   "outputs": [],
   "source": []
  }
 ],
 "metadata": {
  "kernelspec": {
   "display_name": "Python 3",
   "language": "python",
   "name": "python3"
  },
  "language_info": {
   "codemirror_mode": {
    "name": "ipython",
    "version": 3
   },
   "file_extension": ".py",
   "mimetype": "text/x-python",
   "name": "python",
   "nbconvert_exporter": "python",
   "pygments_lexer": "ipython3",
   "version": "3.6.4"
  }
 },
 "nbformat": 4,
 "nbformat_minor": 2
}
